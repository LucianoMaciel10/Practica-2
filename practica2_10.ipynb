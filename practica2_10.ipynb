{
 "cells": [
  {
   "cell_type": "markdown",
   "metadata": {},
   "source": [
    "Datos importantes del programa"
   ]
  },
  {
   "cell_type": "code",
   "execution_count": 54,
   "metadata": {},
   "outputs": [],
   "source": [
    "import promedios\n",
    "\n",
    "names = \"\"\" Agustin, Yanina, Andrés, Ariadna, Bautista, CAROLINA, CESAR, David, Diego, Dolores, DYLAN, ELIANA, Emanuel, Fabián, Noelia, Francsica', FEDERICO, Fernanda, GONZALO, Nancy \"\"\"\n",
    "\n",
    "goals =         [0, 10, 4, 0, 5, 14, 0, 0, 7, 2, 1, 1, 1, 5, 6, 1, 1, 2, 0, 11]\n",
    "\n",
    "goals_avoided = [0, 2, 0, 0, 5, 2, 0, 0, 1, 2, 0, 5, 5, 0, 1, 0, 2, 3, 0, 0]\n",
    "\n",
    "assists =       [0, 5, 1, 0, 5, 2, 0, 0, 1, 2, 1, 5, 5, 0, 1, 0, 2, 3, 1, 0]\n",
    "\n",
    "influence_values = {\"goals\":1.5,\"goals avoided\":1.25,\"assists\":1}\n",
    "\n",
    "games_played = 25"
   ]
  },
  {
   "cell_type": "markdown",
   "metadata": {},
   "source": [
    "Defino una funcion que realiza el calculo de la influencia de un jugador"
   ]
  },
  {
   "cell_type": "code",
   "execution_count": 55,
   "metadata": {},
   "outputs": [],
   "source": [
    "def calculate_influence(player):\n",
    "   \"\"\"Multiplica los datos de el jugador con los puntos establecidos en influence_values segun corresponda, suma todos los resultados de las \n",
    "      multiplicaciones y lo devulve\"\"\"\n",
    "   goals_influence = player[\"goals\"]*influence_values[\"goals\"]\n",
    "   goals_avoided_influence = player[\"goals avoided\"]*influence_values[\"goals avoided\"]\n",
    "   assists_influence = player[\"assists\"]*influence_values[\"assists\"]\n",
    "   return goals_influence + goals_avoided_influence + assists_influence"
   ]
  },
  {
   "cell_type": "markdown",
   "metadata": {},
   "source": [
    "Defino una funcion que devuelve el jugador mas influyente"
   ]
  },
  {
   "cell_type": "code",
   "execution_count": 56,
   "metadata": {},
   "outputs": [],
   "source": [
    "def calculate_most_influential_player(players_statistics):\n",
    "   \"\"\"Itera por cada jugador, compara las influencias de cada uno, guarda al jugador mas influyente y lo devuelve\"\"\"\n",
    "   most_influential_player = max(players_statistics, key= lambda player: calculate_influence(players_statistics[player]))\n",
    "   return most_influential_player"
   ]
  },
  {
   "cell_type": "markdown",
   "metadata": {},
   "source": [
    "Defino una funcion que devulve el maximo goleador"
   ]
  },
  {
   "cell_type": "code",
   "execution_count": 57,
   "metadata": {},
   "outputs": [],
   "source": [
    "def calculate_top_scorer(players_statistics):\n",
    "   \"\"\"Itera por cada jugador, compara los goles de cada uno, guarda el jugador que mas goles hizo y lo devuelve\"\"\"\n",
    "   top_scorer = max(players_statistics, key=lambda player: players_statistics[player][\"goals\"])\n",
    "   return top_scorer"
   ]
  },
  {
   "cell_type": "markdown",
   "metadata": {},
   "source": [
    "Defino una funcion que genera y devuelve la estructura de datos con la que voy a trabajar"
   ]
  },
  {
   "cell_type": "code",
   "execution_count": 58,
   "metadata": {},
   "outputs": [],
   "source": [
    "def generate_data_structure(names,goals,goals_avoided,assists):\n",
    "   \"\"\"Crea y devuelve un diccionario de jugadores, cada jugador esta guardado como un diccionario, \n",
    "      tienen su nombre como clave y sus datos son los elementos\"\"\"\n",
    "   players_data = list(map(lambda x: {\"goals\":x[0],\"goals avoided\":x[1],\"assists\":x[2]} , zip(goals,goals_avoided,assists)))\n",
    "   players = dict(zip(names.split(),players_data))\n",
    "   return players"
   ]
  },
  {
   "cell_type": "markdown",
   "metadata": {},
   "source": [
    "Limpio los nombres de caracteres"
   ]
  },
  {
   "cell_type": "code",
   "execution_count": 59,
   "metadata": {},
   "outputs": [],
   "source": [
    "special_chars = (\",\",\"'\")\n",
    "\n",
    "names = names.lower()\n",
    "\n",
    "for char in special_chars:\n",
    "    names = names.replace(char,\"\")   "
   ]
  },
  {
   "cell_type": "markdown",
   "metadata": {},
   "source": [
    "Programa principal"
   ]
  },
  {
   "cell_type": "code",
   "execution_count": 60,
   "metadata": {},
   "outputs": [
    {
     "name": "stdout",
     "output_type": "stream",
     "text": [
      "{'agustin': {'goals': 0, 'goals avoided': 0, 'assists': 0}, 'yanina': {'goals': 10, 'goals avoided': 2, 'assists': 5}, 'andrés': {'goals': 4, 'goals avoided': 0, 'assists': 1}, 'ariadna': {'goals': 0, 'goals avoided': 0, 'assists': 0}, 'bautista': {'goals': 5, 'goals avoided': 5, 'assists': 5}, 'carolina': {'goals': 14, 'goals avoided': 2, 'assists': 2}, 'cesar': {'goals': 0, 'goals avoided': 0, 'assists': 0}, 'david': {'goals': 0, 'goals avoided': 0, 'assists': 0}, 'diego': {'goals': 7, 'goals avoided': 1, 'assists': 1}, 'dolores': {'goals': 2, 'goals avoided': 2, 'assists': 2}, 'dylan': {'goals': 1, 'goals avoided': 0, 'assists': 1}, 'eliana': {'goals': 1, 'goals avoided': 5, 'assists': 5}, 'emanuel': {'goals': 1, 'goals avoided': 5, 'assists': 5}, 'fabián': {'goals': 5, 'goals avoided': 0, 'assists': 0}, 'noelia': {'goals': 6, 'goals avoided': 1, 'assists': 1}, 'francsica': {'goals': 1, 'goals avoided': 0, 'assists': 0}, 'federico': {'goals': 1, 'goals avoided': 2, 'assists': 2}, 'fernanda': {'goals': 2, 'goals avoided': 3, 'assists': 3}, 'gonzalo': {'goals': 0, 'goals avoided': 0, 'assists': 1}, 'nancy': {'goals': 11, 'goals avoided': 0, 'assists': 0}}\n",
      "La persona con mas goles es carolina, quien a marcado un total de 14 goles.\n",
      "El jugador mas influyente de la temporada es carolina.\n",
      "El promedio de goles por partido del equipo es 2.84 goles en 25 partidos.\n",
      "El promedio de goles por partido de carolina es 0.56 goles en 25 partidos.\n"
     ]
    }
   ],
   "source": [
    "players_statistics = generate_data_structure(names,goals,goals_avoided,assists)\n",
    "\n",
    "print(players_statistics)\n",
    "\n",
    "top_scorer = calculate_top_scorer(players_statistics)\n",
    "\n",
    "print(f\"La persona con mas goles es {top_scorer}, quien a marcado un total de {players_statistics[top_scorer][\"goals\"]} goles.\")\n",
    "\n",
    "most_influential_player = calculate_most_influential_player(players_statistics)\n",
    "\n",
    "print(f\"El jugador mas influyente de la temporada es {most_influential_player}.\")\n",
    "\n",
    "team_goal_average = promedios.calculate_team_goal_average (players_statistics,games_played)\n",
    "\n",
    "print(f\"El promedio de goles por partido del equipo es {team_goal_average} goles en 25 partidos.\")\n",
    "\n",
    "top_scorer_average = promedios.average_goals_per_game(players_statistics[top_scorer],games_played)\n",
    "\n",
    "print(f\"El promedio de goles por partido de {top_scorer} es {top_scorer_average} goles en 25 partidos.\")\n"
   ]
  }
 ],
 "metadata": {
  "kernelspec": {
   "display_name": "Python 3",
   "language": "python",
   "name": "python3"
  },
  "language_info": {
   "codemirror_mode": {
    "name": "ipython",
    "version": 3
   },
   "file_extension": ".py",
   "mimetype": "text/x-python",
   "name": "python",
   "nbconvert_exporter": "python",
   "pygments_lexer": "ipython3",
   "version": "3.12.2"
  }
 },
 "nbformat": 4,
 "nbformat_minor": 2
}
